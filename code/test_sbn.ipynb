{
 "cells": [
  {
   "cell_type": "code",
   "execution_count": null,
   "metadata": {
    "collapsed": false
   },
   "outputs": [],
   "source": [
    "# load Python/Theano stuff\n",
    "# Show figures inline with the code\n",
    "%matplotlib inline   \n",
    "\n",
    "import theano\n",
    "import theano.tensor as T\n",
    "import theano.tensor.nlinalg as Tla\n",
    "import lasagne       # the library we're using for NN's\n",
    "# import the nonlinearities we might use \n",
    "from lasagne.nonlinearities import leaky_rectify, softmax, linear, tanh, rectify, sigmoid\n",
    "from theano.tensor.shared_randomstreams import RandomStreams\n",
    "import numpy as np\n",
    "from numpy.random import *\n",
    "from matplotlib import pyplot as plt\n",
    "\n",
    "import cPickle\n",
    "import sys\n",
    "import dill\n",
    "\n",
    "import scipy\n",
    "\n",
    "# import kmeans clustering algorithm from scikit-learn\n",
    "from sklearn.cluster import KMeans "
   ]
  },
  {
   "cell_type": "code",
   "execution_count": null,
   "metadata": {
    "collapsed": false
   },
   "outputs": [],
   "source": [
    "# data loading capability\n",
    "\n",
    "import fuel\n",
    "fuel.config.data_path = '~/.kerosene/datasets/'\n",
    "from keras.models import Sequential\n",
    "from kerosene.datasets import binarized_mnist\n",
    "\n",
    "(X_train, ), (X_test, ) = binarized_mnist.load_data()\n",
    "\n",
    "# flatten spatial dimensions of the data\n",
    "X_train = X_train.reshape([-1,28*28])\n",
    "X_test = X_test.reshape([-1,28*28])\n",
    "# make validation set\n",
    "X_valid = X_train[-10000:]\n",
    "# y_valid = y_train[-10000:]\n",
    "# reshape training set\n",
    "X_train = X_train[:-10000]\n",
    "# y_train = y_train[:-10000]\n",
    "\n",
    "print X_train.shape\n",
    "print X_test.shape\n",
    "print X_valid.shape\n",
    "\n",
    "plt.figure()\n",
    "plt.imshow(X_train[5].reshape([28,28]), cmap=\"gray\", interpolation=\"None\")\n",
    "# stack our dimensions"
   ]
  },
  {
   "cell_type": "code",
   "execution_count": null,
   "metadata": {
    "collapsed": false
   },
   "outputs": [],
   "source": [
    "# Load our code\n",
    "\n",
    "# Add all the paths that should matter right now\n",
    "sys.path.append('lib/') \n",
    "from MinibatchIterator import *\n",
    "from GenerativeModel import *       # Class file for generative models. \n",
    "from RecognitionModel import *      # Class file for recognition models\n",
    "from sbn_vimco import *\n"
   ]
  },
  {
   "cell_type": "code",
   "execution_count": null,
   "metadata": {
    "collapsed": false
   },
   "outputs": [],
   "source": [
    "model = VIMCO.load_object('sbn_best_validation_so_far.pkl')"
   ]
  },
  {
   "cell_type": "code",
   "execution_count": null,
   "metadata": {
    "collapsed": false,
    "scrolled": true
   },
   "outputs": [],
   "source": [
    "plt.figure(figsize=(7,7))\n",
    "plt.plot(model._costs.keys(), np.asarray(model._costs.values()),'.')\n",
    "plt.axis('tight')\n",
    "plt.xlim([0, 4e6])\n",
    "plt.ylim([-130, -90])\n",
    "plt.ticklabel_format(style='sci', axis='x', scilimits=(0,4e-6))\n",
    "plt.ylabel('VIMCO Objective (minibatch average)')\n",
    "plt.xlabel('iteration')\n"
   ]
  },
  {
   "cell_type": "code",
   "execution_count": null,
   "metadata": {
    "collapsed": false
   },
   "outputs": [],
   "source": [
    "[x,y] = model.mprior.sampleXY(1)\n",
    "plt.figure()\n",
    "plt.imshow(y.reshape([28,28]), cmap=\"gray\", interpolation=\"None\")"
   ]
  },
  {
   "cell_type": "code",
   "execution_count": null,
   "metadata": {
    "collapsed": false
   },
   "outputs": [],
   "source": [
    "model._best_validation_cost"
   ]
  },
  {
   "cell_type": "code",
   "execution_count": null,
   "metadata": {
    "collapsed": false
   },
   "outputs": [],
   "source": [
    "model._iter_count"
   ]
  },
  {
   "cell_type": "code",
   "execution_count": null,
   "metadata": {
    "collapsed": false
   },
   "outputs": [],
   "source": [
    "ii = np.round(np.random.rand()*1000).astype('int32')\n",
    "theY = X_train[ii:(ii+1)]\n",
    "\n",
    "thesampgY = model.mrec.getSample(theY, 1)\n",
    "a= thesampgY[0].eval()\n",
    "print a.shape\n",
    "print thesampgY[1].eval()\n",
    "print thesampgY[2].eval()"
   ]
  },
  {
   "cell_type": "code",
   "execution_count": null,
   "metadata": {
    "collapsed": false,
    "scrolled": true
   },
   "outputs": [],
   "source": [
    "print a[0,:,:]\n",
    "\n",
    "_,ygx = model.mprior.sampleXY(1,a[0,0,:])\n",
    "#_,ygx = model.mprior.sampleXY(1,(np.random.rand(10)>.5).astype('int32'))\n",
    "\n",
    "plt.figure()\n",
    "plt.subplot(121)\n",
    "plt.imshow(theY[0,:].reshape([28,28]), cmap=\"gray\", interpolation=\"None\")\n",
    "plt.subplot(122)\n",
    "plt.imshow(ygx.reshape([28,28]), cmap=\"gray\", interpolation=\"None\")"
   ]
  }
 ],
 "metadata": {
  "kernelspec": {
   "display_name": "Python 2",
   "language": "python",
   "name": "python2"
  },
  "language_info": {
   "codemirror_mode": {
    "name": "ipython",
    "version": 2
   },
   "file_extension": ".py",
   "mimetype": "text/x-python",
   "name": "python",
   "nbconvert_exporter": "python",
   "pygments_lexer": "ipython2",
   "version": "2.7.11"
  }
 },
 "nbformat": 4,
 "nbformat_minor": 0
}
